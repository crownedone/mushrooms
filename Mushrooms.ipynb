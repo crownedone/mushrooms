{
 "cells": [
  {
   "cell_type": "markdown",
   "metadata": {},
   "source": [
    "# Mushrooms"
   ]
  },
  {
   "cell_type": "markdown",
   "metadata": {},
   "source": [
    "<div style=\"height: 150px; width: 100%; overflow:hidden; position: relative;\">\n",
    "    <div style=\"position: absolute; color: white; bottom: 20%; left: 3%; z-index: 10;\">\n",
    "        <p style=\"\">\n",
    "        AI centered investigation on mushroom data set. Using python\n",
    "        </p>\n",
    "    </div>\n",
    "    <img src=\"./resources/background.jpg\" alt=\"Background mushrooms\" style=\"transform: translateY(-18%);\" />\n",
    "</div>\n"
   ]
  },
  {
   "cell_type": "markdown",
   "metadata": {},
   "source": [
    "> <p style=\"font-size: .8em; color: gray;\">Presented by:</p>\n",
    "> ARGUELLO Camilo <br>\n",
    "> EHRLE Steffen"
   ]
  },
  {
   "cell_type": "markdown",
   "metadata": {},
   "source": [
    "## Contents"
   ]
  },
  {
   "cell_type": "markdown",
   "metadata": {},
   "source": [
    "1. [Introduction](#introduction)\n",
    "2. [State of art](#state-of-art)\n",
    "3. [Mushrooms](#mushrooms)\n",
    "4. [Analysis](#analysis)\n",
    "5. [Results](#results)\n",
    "6. [Conclusions](#conclusions)"
   ]
  },
  {
   "cell_type": "markdown",
   "metadata": {},
   "source": [
    "## Introduction"
   ]
  },
  {
   "cell_type": "markdown",
   "metadata": {},
   "source": [
    "<p style=\"text-align: justify\"> Eating wild mushrooms can be a treat; they are one of the few plant foods which contain vitamin D and some other benefits for the human beings [3], however, adverse reactions can occur after eating a wild mushroom. Some of those negative reactions include serious respiratory symptoms, with nauseas and vomiting. As consecuence vital organs could be damaged, which can result in death. [1] Thus, the objective for this research is to analyze whether a mushroom is edible or poisonous based on certain characteristics. </p>"
   ]
  },
  {
   "cell_type": "markdown",
   "metadata": {},
   "source": [
    "## State of art"
   ]
  },
  {
   "cell_type": "markdown",
   "metadata": {},
   "source": [
    "**MYTHS**\n",
    "\n",
    "- Mushrooms which grow in a tree are edible. \n",
    "- There are no toxic polypore mushrooms.\n",
    "- If an animal eat is, it is edible for humans.\n",
    "- we can get sick by smell poisonous mushrooms.\n",
    "- we can't touch poisonous mushrooms.\n",
    "- we can't cook poisonous mushrooms.\n",
    "- Mushroom with bruises blue - toxic.\n",
    "- Brightly colors - toxic *Color doesn't determine edibility of a fungi.\n",
    "- Poisonous mushrooms smell and taste awful.\n",
    "- Poisonous mushrooms always have bright, flashy colors.\n",
    "- All mushrooms that grow in woods, meadows, and pastures are safe to eat.\n",
    "- Poisonous mushrooms have pointy caps.\n",
    "\n",
    "**TRUTH\n",
    "\n",
    "- They arrive from mycelium (root system), because they dont have roots\n",
    "\n",
    "\n",
    "**PROVERB: Chinese.\n",
    "\n",
    "> All fungi are edible. Some fungi are only edible once.\n",
    "> Terry Pratchett.\n",
    "\n",
    "**REF**\n",
    "\n",
    "It  is  very  difficult  to  distinguish  between  edible and  poisonous  mushrooms.  On  the  basis  of  experience, there  are  some  observations,  which  may  help  to  identify the poisonous  mushrooms: bright color,  pink  spores,  a hot burning  taste  or  acidic  flavor,  growing  on  wooden  pieces in  hidden  places,  difficult  to  break  and  bear  a  cup  like structure  (volva)  at  the  base.  Some  of  the   poisonous mushrooms   when   taken   orally   produce   hallucinations. These include toadstools of the  genera Amanita, Psilocybe and Conocybe (Pinson CW et al., 1999).\n"
   ]
  },
  {
   "cell_type": "markdown",
   "metadata": {},
   "source": [
    "## Mushrooms"
   ]
  },
  {
   "cell_type": "markdown",
   "metadata": {},
   "source": [
    "<div class=\"alert alert-warning\">A little remark! This is not the final version, this is only a reference from the state of art. These texts need to be modified to adapt to the project.</div>"
   ]
  },
  {
   "cell_type": "markdown",
   "metadata": {},
   "source": [
    "A mushroom, or toadstool, is the fleshy, spore-bearing fruiting body of a fungus, typically produced above ground on soil or on its food source.\n",
    "\n",
    "The standard for the name “mushroom” is the cultivated white button mushroom, Agaricus bisporus; hence the word “mushroom” is most often applied to those fungi (Basidiomycota, Agaricomycetes) that have a stem (stipe), a cap (pileus), and gills (lamellae, sing. lamella) on the underside of the cap. “Mushroom” also describes a variety of other gilled fungi, with or without stems, therefore the term is used to describe the fleshy fruiting bodies of some Ascomycota. These gills produce microscopic spores that help the fungus spread across the ground or its occupant surface."
   ]
  },
  {
   "cell_type": "markdown",
   "metadata": {},
   "source": [
    "<img src=\"http://4.bp.blogspot.com/_d76A8FQ9xm0/SZomQ1rQyeI/AAAAAAAABFc/wQsySaXNqno/s400/mushroom+diagram.jpg\" />"
   ]
  },
  {
   "cell_type": "markdown",
   "metadata": {},
   "source": [
    "Identifying mushrooms requires a basic understanding of their macroscopic structure. Most are Basidiomycetes and gilled. Their spores, called basidiospores, are produced on the gills and fall in a fine rain of powder from under the caps as a result. At the microscopic level the basidiospores are shot off basidia and then fall between the gills in the dead air space. As a result, for most mushrooms, if the cap is cut off and placed gill-side-down overnight, a powdery impression reflecting the shape of the gills (or pores, or spines, etc.) is formed (when the fruit body is sporulating). The color of the powdery print, called a spore print, is used to help classify mushrooms and can help to identify them. Spore print colors include white (most common), brown, black, purple-brown, pink, yellow, and creamy, but almost never blue, green, or red."
   ]
  },
  {
   "cell_type": "markdown",
   "metadata": {},
   "source": [
    "Mushroom Features Glossary\n",
    "\n",
    "- Cap (Pileus): the expanded, upper part of the mushroom; whose surface is the pileus\n",
    "- Cup (Volva): a cup-shaped structure at the base of the mushroom. The basal cup is the remnant of the button (the rounded, undeveloped mushroom before the fruiting body appears). Not all mushrooms have a cup."
   ]
  },
  {
   "cell_type": "markdown",
   "metadata": {},
   "source": [
    "<img src=\"./resources/cap_shapes.jfif\" width=\"500px\" />"
   ]
  },
  {
   "cell_type": "markdown",
   "metadata": {},
   "source": [
    "- Gills (Lamellae): a series of radially arranged (from the center) flat surfaces located on the underside of the cap. Spores are made in the gills.\n",
    "- Mycelial threads: root-like filaments that anchor the mushroom in the soli.\n",
    "- Ring (Annulus): a skirt-like ring of tissue circling the stem of mature mushrooms. The ring is the remnant of the veil (the veil is the tissue that connects the stem and the cap before the gills are exposed and the fruiting body develops). Not all mushrooms have a ring."
   ]
  },
  {
   "cell_type": "markdown",
   "metadata": {},
   "source": [
    "<img src=\"./resources/gill_spacing.jfif\" alt=\"\" />"
   ]
  },
  {
   "cell_type": "markdown",
   "metadata": {},
   "source": [
    "- Scale: rough patches of tissue on the surface of the cap (scales are remnants of the veil).\n",
    "- Stalk (or Stem, or Stape): the main support of the mushroom; it is topped by the cap. Not all mushrooms have a stalk (stem) [2]."
   ]
  },
  {
   "cell_type": "markdown",
   "metadata": {},
   "source": [
    "<img src=\"./resources/annular_rings.jfif\" width=\"500px\"/>"
   ]
  },
  {
   "cell_type": "markdown",
   "metadata": {},
   "source": [
    "<img src=\"./resources/stipes_stmes.jfif\" width=\"500px\" />"
   ]
  },
  {
   "cell_type": "markdown",
   "metadata": {},
   "source": [
    "Another feature to consider when identifying mushrooms is whether they bruise or bleed a specific color. Certain mushrooms will change colors when damaged or injured. Cutting into a mushroom and observing any color changes can be very important when trying to determine what it is (ref. [4]).\n",
    "\n",
    "A universal veil is a temporary membranous tissue that fully envelops immature fruiting bodies of certain gilled mushrooms. The developing Caesar’s mushroom (Amanita caesarea), for example, which may resemble a small white sphere at this point, is protected by this structure. The veil will eventually rupture and disintegrate by the force of the expanding and maturing mushroom, but will usually leave evidence of its former shape with remnants. These remnants include the volva, or cup-like structure at the base of the stipe, and patches or “warts” on top of the cap (ref. [5])\n",
    "\n",
    "A partial veil (also called an inner veil, to differentiate it from the “outer” veil, or velum[1]) is a temporary structure of tissue found on the fruiting bodies of some basidiomycete fungi, typically agarics. Its role is to isolate and protect the developing spore-producing surface, represented by gills or tubes, found on the lower surface of the cap. A partial veil, in contrast to a universal veil, extends from the stem surface to the cap edge. The partial veil later disintegrates, once the fruiting body has matured and the spores are ready for dispersal. It might then give rise to a stem ring, or fragments attached to the stem or cap edge. In some mushrooms, both a partial veil and a universal veil may be present (ref. [6])."
   ]
  },
  {
   "cell_type": "markdown",
   "metadata": {},
   "source": [
    "Based on this research we would like analyze the mushroom to determine whether they are edible or not."
   ]
  },
  {
   "cell_type": "markdown",
   "metadata": {},
   "source": [
    "## Analysis"
   ]
  },
  {
   "cell_type": "markdown",
   "metadata": {},
   "source": [
    "Importing the libraries"
   ]
  },
  {
   "cell_type": "code",
   "execution_count": 9,
   "metadata": {
    "pycharm": {
     "is_executing": false
    }
   },
   "outputs": [
    {
     "name": "stdout",
     "text": [
      "\n",
      "Packages:\n",
      "    numpy as np\n",
      "    matplotlib.pyplot as plt\n",
      "    pandas as pd\n",
      "\n",
      "Functions:\n",
      "    plotXY\n",
      "    plot_frontiere\n",
      "\n"
     ],
     "output_type": "stream"
    }
   ],
   "source": [
    "from sllab import *\n",
    "from sklearn import preprocessing as pp\n",
    "\n",
    "# A utility from https://stackoverflow.com/questions/24458645/label-encoding-across-multiple-columns-in-scikit-learn\n",
    "# Adapted and changed to Labelbonarizer that fits with the whole dataframe.\n",
    "class MultiColumnLabelEncoder:\n",
    "    def __init__(self,columns = None):\n",
    "        self.columns = columns # array of column names to encode\n",
    "        self.lb = pp.LabelBinarizer()\n",
    "        \n",
    "    def fit(self,X,y=None):\n",
    "        self.lb.fit(np.concatenate(X.to_numpy(), axis=0))\n",
    "        return self\n",
    "\n",
    "    def transform(self,X):\n",
    "        output = X.copy().astype(object)\n",
    "        if self.columns is None:\n",
    "            self.columns = output.columns\n",
    "        \n",
    "        for col_id, col in enumerate(self.columns):\n",
    "            transf = self.lb.transform(output[col])\n",
    "            for id, el in enumerate(transf):\n",
    "                output.iloc[id, col_id] = el\n",
    "                \n",
    "        return output\n",
    "\n",
    "    def fit_transform(self,X,y=None):\n",
    "        return self.fit(X,y).transform(X)\n",
    "    "
   ]
  },
  {
   "cell_type": "markdown",
   "metadata": {},
   "source": [
    "Loading the data"
   ]
  },
  {
   "cell_type": "code",
   "execution_count": 10,
   "metadata": {
    "pycharm": {
     "is_executing": false
    },
    "scrolled": true
   },
   "outputs": [],
   "source": [
    "data_names = pd.read_csv(\"expanded\",\n",
    "                    skiprows=9,\n",
    "                    skipfooter=1)"
   ]
  },
  {
   "cell_type": "code",
   "execution_count": 11,
   "metadata": {
    "pycharm": {
     "is_executing": false
    }
   },
   "outputs": [
    {
     "data": {
      "text/plain": "   EDIBLE  CONVEX  SMOOTH  WHITE  BRUISES  ALMOND  FREE  CROWDED  NARROW  \\\n0  EDIBLE  CONVEX  SMOOTH  WHITE  BRUISES  ALMOND  FREE  CROWDED  NARROW   \n1  EDIBLE  CONVEX  SMOOTH  WHITE  BRUISES  ALMOND  FREE  CROWDED  NARROW   \n2  EDIBLE  CONVEX  SMOOTH  WHITE  BRUISES  ALMOND  FREE  CROWDED  NARROW   \n3  EDIBLE  CONVEX  SMOOTH  WHITE  BRUISES  ALMOND  FREE  CROWDED  NARROW   \n4  EDIBLE  CONVEX  SMOOTH  WHITE  BRUISES  ALMOND  FREE  CROWDED  NARROW   \n\n  WHITE.1  ... SMOOTH.2 WHITE.2 WHITE.3  PARTIAL WHITE.4  ONE  PENDANT  \\\n0   WHITE  ...   SMOOTH   WHITE   WHITE  PARTIAL   WHITE  ONE  PENDANT   \n1    PINK  ...   SMOOTH   WHITE   WHITE  PARTIAL   WHITE  ONE  PENDANT   \n2    PINK  ...   SMOOTH   WHITE   WHITE  PARTIAL   WHITE  ONE  PENDANT   \n3   BROWN  ...   SMOOTH   WHITE   WHITE  PARTIAL   WHITE  ONE  PENDANT   \n4   BROWN  ...   SMOOTH   WHITE   WHITE  PARTIAL   WHITE  ONE  PENDANT   \n\n   PURPLE  SEVERAL  WOODS  \n0   BROWN  SEVERAL  WOODS  \n1  PURPLE  SEVERAL  WOODS  \n2   BROWN  SEVERAL  WOODS  \n3  PURPLE  SEVERAL  WOODS  \n4   BROWN  SEVERAL  WOODS  \n\n[5 rows x 23 columns]",
      "text/html": "<div>\n<style scoped>\n    .dataframe tbody tr th:only-of-type {\n        vertical-align: middle;\n    }\n\n    .dataframe tbody tr th {\n        vertical-align: top;\n    }\n\n    .dataframe thead th {\n        text-align: right;\n    }\n</style>\n<table border=\"1\" class=\"dataframe\">\n  <thead>\n    <tr style=\"text-align: right;\">\n      <th></th>\n      <th>EDIBLE</th>\n      <th>CONVEX</th>\n      <th>SMOOTH</th>\n      <th>WHITE</th>\n      <th>BRUISES</th>\n      <th>ALMOND</th>\n      <th>FREE</th>\n      <th>CROWDED</th>\n      <th>NARROW</th>\n      <th>WHITE.1</th>\n      <th>...</th>\n      <th>SMOOTH.2</th>\n      <th>WHITE.2</th>\n      <th>WHITE.3</th>\n      <th>PARTIAL</th>\n      <th>WHITE.4</th>\n      <th>ONE</th>\n      <th>PENDANT</th>\n      <th>PURPLE</th>\n      <th>SEVERAL</th>\n      <th>WOODS</th>\n    </tr>\n  </thead>\n  <tbody>\n    <tr>\n      <td>0</td>\n      <td>EDIBLE</td>\n      <td>CONVEX</td>\n      <td>SMOOTH</td>\n      <td>WHITE</td>\n      <td>BRUISES</td>\n      <td>ALMOND</td>\n      <td>FREE</td>\n      <td>CROWDED</td>\n      <td>NARROW</td>\n      <td>WHITE</td>\n      <td>...</td>\n      <td>SMOOTH</td>\n      <td>WHITE</td>\n      <td>WHITE</td>\n      <td>PARTIAL</td>\n      <td>WHITE</td>\n      <td>ONE</td>\n      <td>PENDANT</td>\n      <td>BROWN</td>\n      <td>SEVERAL</td>\n      <td>WOODS</td>\n    </tr>\n    <tr>\n      <td>1</td>\n      <td>EDIBLE</td>\n      <td>CONVEX</td>\n      <td>SMOOTH</td>\n      <td>WHITE</td>\n      <td>BRUISES</td>\n      <td>ALMOND</td>\n      <td>FREE</td>\n      <td>CROWDED</td>\n      <td>NARROW</td>\n      <td>PINK</td>\n      <td>...</td>\n      <td>SMOOTH</td>\n      <td>WHITE</td>\n      <td>WHITE</td>\n      <td>PARTIAL</td>\n      <td>WHITE</td>\n      <td>ONE</td>\n      <td>PENDANT</td>\n      <td>PURPLE</td>\n      <td>SEVERAL</td>\n      <td>WOODS</td>\n    </tr>\n    <tr>\n      <td>2</td>\n      <td>EDIBLE</td>\n      <td>CONVEX</td>\n      <td>SMOOTH</td>\n      <td>WHITE</td>\n      <td>BRUISES</td>\n      <td>ALMOND</td>\n      <td>FREE</td>\n      <td>CROWDED</td>\n      <td>NARROW</td>\n      <td>PINK</td>\n      <td>...</td>\n      <td>SMOOTH</td>\n      <td>WHITE</td>\n      <td>WHITE</td>\n      <td>PARTIAL</td>\n      <td>WHITE</td>\n      <td>ONE</td>\n      <td>PENDANT</td>\n      <td>BROWN</td>\n      <td>SEVERAL</td>\n      <td>WOODS</td>\n    </tr>\n    <tr>\n      <td>3</td>\n      <td>EDIBLE</td>\n      <td>CONVEX</td>\n      <td>SMOOTH</td>\n      <td>WHITE</td>\n      <td>BRUISES</td>\n      <td>ALMOND</td>\n      <td>FREE</td>\n      <td>CROWDED</td>\n      <td>NARROW</td>\n      <td>BROWN</td>\n      <td>...</td>\n      <td>SMOOTH</td>\n      <td>WHITE</td>\n      <td>WHITE</td>\n      <td>PARTIAL</td>\n      <td>WHITE</td>\n      <td>ONE</td>\n      <td>PENDANT</td>\n      <td>PURPLE</td>\n      <td>SEVERAL</td>\n      <td>WOODS</td>\n    </tr>\n    <tr>\n      <td>4</td>\n      <td>EDIBLE</td>\n      <td>CONVEX</td>\n      <td>SMOOTH</td>\n      <td>WHITE</td>\n      <td>BRUISES</td>\n      <td>ALMOND</td>\n      <td>FREE</td>\n      <td>CROWDED</td>\n      <td>NARROW</td>\n      <td>BROWN</td>\n      <td>...</td>\n      <td>SMOOTH</td>\n      <td>WHITE</td>\n      <td>WHITE</td>\n      <td>PARTIAL</td>\n      <td>WHITE</td>\n      <td>ONE</td>\n      <td>PENDANT</td>\n      <td>BROWN</td>\n      <td>SEVERAL</td>\n      <td>WOODS</td>\n    </tr>\n  </tbody>\n</table>\n<p>5 rows × 23 columns</p>\n</div>"
     },
     "metadata": {},
     "output_type": "execute_result",
     "execution_count": 11
    }
   ],
   "source": [
    "data_names.head()"
   ]
  },
  {
   "cell_type": "code",
   "execution_count": 12,
   "metadata": {
    "pycharm": {
     "is_executing": false
    }
   },
   "outputs": [],
   "source": [
    "data_characteristics = pd.read_csv(\"agaricus-lepiota.data\")"
   ]
  },
  {
   "cell_type": "code",
   "execution_count": 13,
   "metadata": {
    "pycharm": {
     "is_executing": false
    }
   },
   "outputs": [
    {
     "data": {
      "text/plain": "   p  x  s  n  t p.1  f  c n.1  k  ... s.2  w w.1 p.2 w.2  o p.3 k.1 s.3  u\n0  e  x  s  y  t   a  f  c   b  k  ...   s  w   w   p   w  o   p   n   n  g\n1  e  b  s  w  t   l  f  c   b  n  ...   s  w   w   p   w  o   p   n   n  m\n2  p  x  y  w  t   p  f  c   n  n  ...   s  w   w   p   w  o   p   k   s  u\n3  e  x  s  g  f   n  f  w   b  k  ...   s  w   w   p   w  o   e   n   a  g\n4  e  x  y  y  t   a  f  c   b  n  ...   s  w   w   p   w  o   p   k   n  g\n\n[5 rows x 23 columns]",
      "text/html": "<div>\n<style scoped>\n    .dataframe tbody tr th:only-of-type {\n        vertical-align: middle;\n    }\n\n    .dataframe tbody tr th {\n        vertical-align: top;\n    }\n\n    .dataframe thead th {\n        text-align: right;\n    }\n</style>\n<table border=\"1\" class=\"dataframe\">\n  <thead>\n    <tr style=\"text-align: right;\">\n      <th></th>\n      <th>p</th>\n      <th>x</th>\n      <th>s</th>\n      <th>n</th>\n      <th>t</th>\n      <th>p.1</th>\n      <th>f</th>\n      <th>c</th>\n      <th>n.1</th>\n      <th>k</th>\n      <th>...</th>\n      <th>s.2</th>\n      <th>w</th>\n      <th>w.1</th>\n      <th>p.2</th>\n      <th>w.2</th>\n      <th>o</th>\n      <th>p.3</th>\n      <th>k.1</th>\n      <th>s.3</th>\n      <th>u</th>\n    </tr>\n  </thead>\n  <tbody>\n    <tr>\n      <td>0</td>\n      <td>e</td>\n      <td>x</td>\n      <td>s</td>\n      <td>y</td>\n      <td>t</td>\n      <td>a</td>\n      <td>f</td>\n      <td>c</td>\n      <td>b</td>\n      <td>k</td>\n      <td>...</td>\n      <td>s</td>\n      <td>w</td>\n      <td>w</td>\n      <td>p</td>\n      <td>w</td>\n      <td>o</td>\n      <td>p</td>\n      <td>n</td>\n      <td>n</td>\n      <td>g</td>\n    </tr>\n    <tr>\n      <td>1</td>\n      <td>e</td>\n      <td>b</td>\n      <td>s</td>\n      <td>w</td>\n      <td>t</td>\n      <td>l</td>\n      <td>f</td>\n      <td>c</td>\n      <td>b</td>\n      <td>n</td>\n      <td>...</td>\n      <td>s</td>\n      <td>w</td>\n      <td>w</td>\n      <td>p</td>\n      <td>w</td>\n      <td>o</td>\n      <td>p</td>\n      <td>n</td>\n      <td>n</td>\n      <td>m</td>\n    </tr>\n    <tr>\n      <td>2</td>\n      <td>p</td>\n      <td>x</td>\n      <td>y</td>\n      <td>w</td>\n      <td>t</td>\n      <td>p</td>\n      <td>f</td>\n      <td>c</td>\n      <td>n</td>\n      <td>n</td>\n      <td>...</td>\n      <td>s</td>\n      <td>w</td>\n      <td>w</td>\n      <td>p</td>\n      <td>w</td>\n      <td>o</td>\n      <td>p</td>\n      <td>k</td>\n      <td>s</td>\n      <td>u</td>\n    </tr>\n    <tr>\n      <td>3</td>\n      <td>e</td>\n      <td>x</td>\n      <td>s</td>\n      <td>g</td>\n      <td>f</td>\n      <td>n</td>\n      <td>f</td>\n      <td>w</td>\n      <td>b</td>\n      <td>k</td>\n      <td>...</td>\n      <td>s</td>\n      <td>w</td>\n      <td>w</td>\n      <td>p</td>\n      <td>w</td>\n      <td>o</td>\n      <td>e</td>\n      <td>n</td>\n      <td>a</td>\n      <td>g</td>\n    </tr>\n    <tr>\n      <td>4</td>\n      <td>e</td>\n      <td>x</td>\n      <td>y</td>\n      <td>y</td>\n      <td>t</td>\n      <td>a</td>\n      <td>f</td>\n      <td>c</td>\n      <td>b</td>\n      <td>n</td>\n      <td>...</td>\n      <td>s</td>\n      <td>w</td>\n      <td>w</td>\n      <td>p</td>\n      <td>w</td>\n      <td>o</td>\n      <td>p</td>\n      <td>k</td>\n      <td>n</td>\n      <td>g</td>\n    </tr>\n  </tbody>\n</table>\n<p>5 rows × 23 columns</p>\n</div>"
     },
     "metadata": {},
     "output_type": "execute_result",
     "execution_count": 13
    }
   ],
   "source": [
    "data_characteristics.head()"
   ]
  },
  {
   "cell_type": "markdown",
   "metadata": {},
   "source": [
    "## Understanding the data"
   ]
  },
  {
   "cell_type": "markdown",
   "metadata": {},
   "source": [
    "This data set includes descriptions of hypothetical samples corresponding to 23 species of gilled mushrooms in the Agaricus and Lepiota Family (pp. 500-525).  Each species is identified as definitely edible, definitely poisonous, or of unknown edibility and not recommended.  This latter class was combined with the poisonous one.  The Guide clearly states that there is no simple rule for determining the edibility of a mushroom; no rule like ``leaflets three, let it be'' for Poisonous Oak and Ivy."
   ]
  },
  {
   "cell_type": "markdown",
   "metadata": {},
   "source": [
    "1. Adding titles to organize the info"
   ]
  },
  {
   "cell_type": "code",
   "execution_count": 14,
   "metadata": {
    "pycharm": {
     "is_executing": false
    }
   },
   "outputs": [],
   "source": [
    "classes = np.array([\n",
    "    'class',\n",
    "    'cap-shape', \n",
    "    'cap-surface', \n",
    "    'cap-color',\n",
    "    'bruises?',\n",
    "    'odor',\n",
    "    'gill-attachment',\n",
    "    'gill-spacing',\n",
    "    'gill-size',\n",
    "    'gill-color',\n",
    "    'stalk-shape',\n",
    "    'stalk-root',\n",
    "    'stalk-surface-above-ring',\n",
    "    'stalk-surface-below-ring',\n",
    "    'stalk-color-above-ring',\n",
    "    'stalk-color-below-ring',\n",
    "    'veil-type',\n",
    "    'veil-color',\n",
    "    'ring-number',\n",
    "    'ring-type',\n",
    "    'spore-print-color',\n",
    "    'population',\n",
    "    'habitat'])\n",
    "\n",
    "featured_classes = np.array([\n",
    "    'cap-shape', \n",
    "    'cap-surface', \n",
    "    'cap-color',\n",
    "    'bruises?',\n",
    "    'odor',\n",
    "    'gill-attachment',\n",
    "    'gill-spacing',\n",
    "    'gill-size',\n",
    "    'gill-color',\n",
    "    'stalk-shape',\n",
    "    'stalk-root',\n",
    "    'stalk-surface-above-ring',\n",
    "    'stalk-surface-below-ring',\n",
    "    'stalk-color-above-ring',\n",
    "    'stalk-color-below-ring',\n",
    "    'veil-type',\n",
    "    'veil-color',\n",
    "    'ring-number',\n",
    "    'ring-type',\n",
    "    'spore-print-color',\n",
    "    'population',\n",
    "    'habitat'])"
   ]
  },
  {
   "cell_type": "code",
   "execution_count": 15,
   "metadata": {
    "pycharm": {
     "is_executing": false
    }
   },
   "outputs": [],
   "source": [
    "dataset_names = pd.DataFrame(data_names.values, columns=classes)"
   ]
  },
  {
   "cell_type": "code",
   "execution_count": 16,
   "metadata": {
    "pycharm": {
     "is_executing": false
    }
   },
   "outputs": [],
   "source": [
    "X, y = pd.DataFrame(dataset_names, columns=featured_classes), pd.DataFrame(dataset_names, columns=['class'])\n",
    "\n",
    "# Transferring to numerical values using LabelEncoder\n",
    "dataset_encoded = MultiColumnLabelEncoder().fit_transform(dataset_names)\n",
    "X_enc = pd.DataFrame(dataset_encoded, columns=featured_classes)\n",
    "y_enc = pd.DataFrame(dataset_encoded, columns=['class'])"
   ]
  },
  {
   "cell_type": "code",
   "execution_count": 9,
   "metadata": {
    "pycharm": {
     "is_executing": false
    },
    "scrolled": true
   },
   "outputs": [
    {
     "data": {
      "text/html": [
       "<div>\n",
       "<style scoped>\n",
       "    .dataframe tbody tr th:only-of-type {\n",
       "        vertical-align: middle;\n",
       "    }\n",
       "\n",
       "    .dataframe tbody tr th {\n",
       "        vertical-align: top;\n",
       "    }\n",
       "\n",
       "    .dataframe thead th {\n",
       "        text-align: right;\n",
       "    }\n",
       "</style>\n",
       "<table border=\"1\" class=\"dataframe\">\n",
       "  <thead>\n",
       "    <tr style=\"text-align: right;\">\n",
       "      <th></th>\n",
       "      <th>class</th>\n",
       "      <th>cap-shape</th>\n",
       "      <th>cap-surface</th>\n",
       "      <th>cap-color</th>\n",
       "      <th>bruises?</th>\n",
       "      <th>odor</th>\n",
       "      <th>gill-attachment</th>\n",
       "      <th>gill-spacing</th>\n",
       "      <th>gill-size</th>\n",
       "      <th>gill-color</th>\n",
       "      <th>...</th>\n",
       "      <th>stalk-surface-below-ring</th>\n",
       "      <th>stalk-color-above-ring</th>\n",
       "      <th>stalk-color-below-ring</th>\n",
       "      <th>veil-type</th>\n",
       "      <th>veil-color</th>\n",
       "      <th>ring-number</th>\n",
       "      <th>ring-type</th>\n",
       "      <th>spore-print-color</th>\n",
       "      <th>population</th>\n",
       "      <th>habitat</th>\n",
       "    </tr>\n",
       "  </thead>\n",
       "  <tbody>\n",
       "    <tr>\n",
       "      <td>0</td>\n",
       "      <td>EDIBLE</td>\n",
       "      <td>CONVEX</td>\n",
       "      <td>SMOOTH</td>\n",
       "      <td>WHITE</td>\n",
       "      <td>BRUISES</td>\n",
       "      <td>ALMOND</td>\n",
       "      <td>FREE</td>\n",
       "      <td>CROWDED</td>\n",
       "      <td>NARROW</td>\n",
       "      <td>WHITE</td>\n",
       "      <td>...</td>\n",
       "      <td>SMOOTH</td>\n",
       "      <td>WHITE</td>\n",
       "      <td>WHITE</td>\n",
       "      <td>PARTIAL</td>\n",
       "      <td>WHITE</td>\n",
       "      <td>ONE</td>\n",
       "      <td>PENDANT</td>\n",
       "      <td>BROWN</td>\n",
       "      <td>SEVERAL</td>\n",
       "      <td>WOODS</td>\n",
       "    </tr>\n",
       "    <tr>\n",
       "      <td>1</td>\n",
       "      <td>EDIBLE</td>\n",
       "      <td>CONVEX</td>\n",
       "      <td>SMOOTH</td>\n",
       "      <td>WHITE</td>\n",
       "      <td>BRUISES</td>\n",
       "      <td>ALMOND</td>\n",
       "      <td>FREE</td>\n",
       "      <td>CROWDED</td>\n",
       "      <td>NARROW</td>\n",
       "      <td>PINK</td>\n",
       "      <td>...</td>\n",
       "      <td>SMOOTH</td>\n",
       "      <td>WHITE</td>\n",
       "      <td>WHITE</td>\n",
       "      <td>PARTIAL</td>\n",
       "      <td>WHITE</td>\n",
       "      <td>ONE</td>\n",
       "      <td>PENDANT</td>\n",
       "      <td>PURPLE</td>\n",
       "      <td>SEVERAL</td>\n",
       "      <td>WOODS</td>\n",
       "    </tr>\n",
       "    <tr>\n",
       "      <td>2</td>\n",
       "      <td>EDIBLE</td>\n",
       "      <td>CONVEX</td>\n",
       "      <td>SMOOTH</td>\n",
       "      <td>WHITE</td>\n",
       "      <td>BRUISES</td>\n",
       "      <td>ALMOND</td>\n",
       "      <td>FREE</td>\n",
       "      <td>CROWDED</td>\n",
       "      <td>NARROW</td>\n",
       "      <td>PINK</td>\n",
       "      <td>...</td>\n",
       "      <td>SMOOTH</td>\n",
       "      <td>WHITE</td>\n",
       "      <td>WHITE</td>\n",
       "      <td>PARTIAL</td>\n",
       "      <td>WHITE</td>\n",
       "      <td>ONE</td>\n",
       "      <td>PENDANT</td>\n",
       "      <td>BROWN</td>\n",
       "      <td>SEVERAL</td>\n",
       "      <td>WOODS</td>\n",
       "    </tr>\n",
       "    <tr>\n",
       "      <td>3</td>\n",
       "      <td>EDIBLE</td>\n",
       "      <td>CONVEX</td>\n",
       "      <td>SMOOTH</td>\n",
       "      <td>WHITE</td>\n",
       "      <td>BRUISES</td>\n",
       "      <td>ALMOND</td>\n",
       "      <td>FREE</td>\n",
       "      <td>CROWDED</td>\n",
       "      <td>NARROW</td>\n",
       "      <td>BROWN</td>\n",
       "      <td>...</td>\n",
       "      <td>SMOOTH</td>\n",
       "      <td>WHITE</td>\n",
       "      <td>WHITE</td>\n",
       "      <td>PARTIAL</td>\n",
       "      <td>WHITE</td>\n",
       "      <td>ONE</td>\n",
       "      <td>PENDANT</td>\n",
       "      <td>PURPLE</td>\n",
       "      <td>SEVERAL</td>\n",
       "      <td>WOODS</td>\n",
       "    </tr>\n",
       "    <tr>\n",
       "      <td>4</td>\n",
       "      <td>EDIBLE</td>\n",
       "      <td>CONVEX</td>\n",
       "      <td>SMOOTH</td>\n",
       "      <td>WHITE</td>\n",
       "      <td>BRUISES</td>\n",
       "      <td>ALMOND</td>\n",
       "      <td>FREE</td>\n",
       "      <td>CROWDED</td>\n",
       "      <td>NARROW</td>\n",
       "      <td>BROWN</td>\n",
       "      <td>...</td>\n",
       "      <td>SMOOTH</td>\n",
       "      <td>WHITE</td>\n",
       "      <td>WHITE</td>\n",
       "      <td>PARTIAL</td>\n",
       "      <td>WHITE</td>\n",
       "      <td>ONE</td>\n",
       "      <td>PENDANT</td>\n",
       "      <td>BROWN</td>\n",
       "      <td>SEVERAL</td>\n",
       "      <td>WOODS</td>\n",
       "    </tr>\n",
       "  </tbody>\n",
       "</table>\n",
       "<p>5 rows × 23 columns</p>\n",
       "</div>"
      ],
      "text/plain": [
       "    class cap-shape cap-surface cap-color bruises?    odor gill-attachment  \\\n",
       "0  EDIBLE    CONVEX      SMOOTH     WHITE  BRUISES  ALMOND            FREE   \n",
       "1  EDIBLE    CONVEX      SMOOTH     WHITE  BRUISES  ALMOND            FREE   \n",
       "2  EDIBLE    CONVEX      SMOOTH     WHITE  BRUISES  ALMOND            FREE   \n",
       "3  EDIBLE    CONVEX      SMOOTH     WHITE  BRUISES  ALMOND            FREE   \n",
       "4  EDIBLE    CONVEX      SMOOTH     WHITE  BRUISES  ALMOND            FREE   \n",
       "\n",
       "  gill-spacing gill-size gill-color  ... stalk-surface-below-ring  \\\n",
       "0      CROWDED    NARROW      WHITE  ...                   SMOOTH   \n",
       "1      CROWDED    NARROW       PINK  ...                   SMOOTH   \n",
       "2      CROWDED    NARROW       PINK  ...                   SMOOTH   \n",
       "3      CROWDED    NARROW      BROWN  ...                   SMOOTH   \n",
       "4      CROWDED    NARROW      BROWN  ...                   SMOOTH   \n",
       "\n",
       "  stalk-color-above-ring stalk-color-below-ring veil-type veil-color  \\\n",
       "0                  WHITE                  WHITE   PARTIAL      WHITE   \n",
       "1                  WHITE                  WHITE   PARTIAL      WHITE   \n",
       "2                  WHITE                  WHITE   PARTIAL      WHITE   \n",
       "3                  WHITE                  WHITE   PARTIAL      WHITE   \n",
       "4                  WHITE                  WHITE   PARTIAL      WHITE   \n",
       "\n",
       "  ring-number ring-type spore-print-color population habitat  \n",
       "0         ONE   PENDANT             BROWN    SEVERAL   WOODS  \n",
       "1         ONE   PENDANT            PURPLE    SEVERAL   WOODS  \n",
       "2         ONE   PENDANT             BROWN    SEVERAL   WOODS  \n",
       "3         ONE   PENDANT            PURPLE    SEVERAL   WOODS  \n",
       "4         ONE   PENDANT             BROWN    SEVERAL   WOODS  \n",
       "\n",
       "[5 rows x 23 columns]"
      ]
     },
     "execution_count": 9,
     "metadata": {},
     "output_type": "execute_result"
    }
   ],
   "source": [
    "dataset_names.head()"
   ]
  },
  {
   "cell_type": "code",
   "execution_count": 23,
   "metadata": {},
   "outputs": [
    {
     "data": {
      "text/html": [
       "<div>\n",
       "<style scoped>\n",
       "    .dataframe tbody tr th:only-of-type {\n",
       "        vertical-align: middle;\n",
       "    }\n",
       "\n",
       "    .dataframe tbody tr th {\n",
       "        vertical-align: top;\n",
       "    }\n",
       "\n",
       "    .dataframe thead th {\n",
       "        text-align: right;\n",
       "    }\n",
       "</style>\n",
       "<table border=\"1\" class=\"dataframe\">\n",
       "  <thead>\n",
       "    <tr style=\"text-align: right;\">\n",
       "      <th></th>\n",
       "      <th>class</th>\n",
       "      <th>cap-shape</th>\n",
       "      <th>cap-surface</th>\n",
       "      <th>cap-color</th>\n",
       "      <th>bruises?</th>\n",
       "      <th>odor</th>\n",
       "      <th>gill-attachment</th>\n",
       "      <th>gill-spacing</th>\n",
       "      <th>gill-size</th>\n",
       "      <th>gill-color</th>\n",
       "      <th>...</th>\n",
       "      <th>stalk-surface-below-ring</th>\n",
       "      <th>stalk-color-above-ring</th>\n",
       "      <th>stalk-color-below-ring</th>\n",
       "      <th>veil-type</th>\n",
       "      <th>veil-color</th>\n",
       "      <th>ring-number</th>\n",
       "      <th>ring-type</th>\n",
       "      <th>spore-print-color</th>\n",
       "      <th>population</th>\n",
       "      <th>habitat</th>\n",
       "    </tr>\n",
       "  </thead>\n",
       "  <tbody>\n",
       "    <tr>\n",
       "      <td>0</td>\n",
       "      <td>0</td>\n",
       "      <td>2</td>\n",
       "      <td>3</td>\n",
       "      <td>8</td>\n",
       "      <td>0</td>\n",
       "      <td>0</td>\n",
       "      <td>1</td>\n",
       "      <td>1</td>\n",
       "      <td>1</td>\n",
       "      <td>10</td>\n",
       "      <td>...</td>\n",
       "      <td>3</td>\n",
       "      <td>7</td>\n",
       "      <td>7</td>\n",
       "      <td>0</td>\n",
       "      <td>2</td>\n",
       "      <td>1</td>\n",
       "      <td>4</td>\n",
       "      <td>1</td>\n",
       "      <td>4</td>\n",
       "      <td>6</td>\n",
       "    </tr>\n",
       "    <tr>\n",
       "      <td>1</td>\n",
       "      <td>0</td>\n",
       "      <td>2</td>\n",
       "      <td>3</td>\n",
       "      <td>8</td>\n",
       "      <td>0</td>\n",
       "      <td>0</td>\n",
       "      <td>1</td>\n",
       "      <td>1</td>\n",
       "      <td>1</td>\n",
       "      <td>7</td>\n",
       "      <td>...</td>\n",
       "      <td>3</td>\n",
       "      <td>7</td>\n",
       "      <td>7</td>\n",
       "      <td>0</td>\n",
       "      <td>2</td>\n",
       "      <td>1</td>\n",
       "      <td>4</td>\n",
       "      <td>6</td>\n",
       "      <td>4</td>\n",
       "      <td>6</td>\n",
       "    </tr>\n",
       "    <tr>\n",
       "      <td>2</td>\n",
       "      <td>0</td>\n",
       "      <td>2</td>\n",
       "      <td>3</td>\n",
       "      <td>8</td>\n",
       "      <td>0</td>\n",
       "      <td>0</td>\n",
       "      <td>1</td>\n",
       "      <td>1</td>\n",
       "      <td>1</td>\n",
       "      <td>7</td>\n",
       "      <td>...</td>\n",
       "      <td>3</td>\n",
       "      <td>7</td>\n",
       "      <td>7</td>\n",
       "      <td>0</td>\n",
       "      <td>2</td>\n",
       "      <td>1</td>\n",
       "      <td>4</td>\n",
       "      <td>1</td>\n",
       "      <td>4</td>\n",
       "      <td>6</td>\n",
       "    </tr>\n",
       "    <tr>\n",
       "      <td>3</td>\n",
       "      <td>0</td>\n",
       "      <td>2</td>\n",
       "      <td>3</td>\n",
       "      <td>8</td>\n",
       "      <td>0</td>\n",
       "      <td>0</td>\n",
       "      <td>1</td>\n",
       "      <td>1</td>\n",
       "      <td>1</td>\n",
       "      <td>1</td>\n",
       "      <td>...</td>\n",
       "      <td>3</td>\n",
       "      <td>7</td>\n",
       "      <td>7</td>\n",
       "      <td>0</td>\n",
       "      <td>2</td>\n",
       "      <td>1</td>\n",
       "      <td>4</td>\n",
       "      <td>6</td>\n",
       "      <td>4</td>\n",
       "      <td>6</td>\n",
       "    </tr>\n",
       "    <tr>\n",
       "      <td>4</td>\n",
       "      <td>0</td>\n",
       "      <td>2</td>\n",
       "      <td>3</td>\n",
       "      <td>8</td>\n",
       "      <td>0</td>\n",
       "      <td>0</td>\n",
       "      <td>1</td>\n",
       "      <td>1</td>\n",
       "      <td>1</td>\n",
       "      <td>1</td>\n",
       "      <td>...</td>\n",
       "      <td>3</td>\n",
       "      <td>7</td>\n",
       "      <td>7</td>\n",
       "      <td>0</td>\n",
       "      <td>2</td>\n",
       "      <td>1</td>\n",
       "      <td>4</td>\n",
       "      <td>1</td>\n",
       "      <td>4</td>\n",
       "      <td>6</td>\n",
       "    </tr>\n",
       "  </tbody>\n",
       "</table>\n",
       "<p>5 rows × 23 columns</p>\n",
       "</div>"
      ],
      "text/plain": [
       "   class  cap-shape  cap-surface  cap-color  bruises?  odor  gill-attachment  \\\n",
       "0      0          2            3          8         0     0                1   \n",
       "1      0          2            3          8         0     0                1   \n",
       "2      0          2            3          8         0     0                1   \n",
       "3      0          2            3          8         0     0                1   \n",
       "4      0          2            3          8         0     0                1   \n",
       "\n",
       "   gill-spacing  gill-size  gill-color  ...  stalk-surface-below-ring  \\\n",
       "0             1          1          10  ...                         3   \n",
       "1             1          1           7  ...                         3   \n",
       "2             1          1           7  ...                         3   \n",
       "3             1          1           1  ...                         3   \n",
       "4             1          1           1  ...                         3   \n",
       "\n",
       "   stalk-color-above-ring  stalk-color-below-ring  veil-type  veil-color  \\\n",
       "0                       7                       7          0           2   \n",
       "1                       7                       7          0           2   \n",
       "2                       7                       7          0           2   \n",
       "3                       7                       7          0           2   \n",
       "4                       7                       7          0           2   \n",
       "\n",
       "   ring-number  ring-type  spore-print-color  population  habitat  \n",
       "0            1          4                  1           4        6  \n",
       "1            1          4                  6           4        6  \n",
       "2            1          4                  1           4        6  \n",
       "3            1          4                  6           4        6  \n",
       "4            1          4                  1           4        6  \n",
       "\n",
       "[5 rows x 23 columns]"
      ]
     },
     "execution_count": 23,
     "metadata": {},
     "output_type": "execute_result"
    }
   ],
   "source": [
    "dataset_encoded.head()"
   ]
  },
  {
   "cell_type": "markdown",
   "metadata": {},
   "source": [
    "### Possible approach"
   ]
  },
  {
   "cell_type": "markdown",
   "metadata": {
    "pycharm": {
     "name": "#%% md\n"
    }
   },
   "source": [
    "We can translate the classes to numerical data. This way we could try linear regression methods.\n",
    "> Of course it may make no sense, if the outcome is 'between' labels, but it can yield sense in a way, as some classes are more fluid than others (i.E. colors: A mushroom can be in between yellow and white (beeing bright yellow))\n",
    ">\n",
    ">Even though we have no data on this level of accuracy, we might build a regression model that supports it."
   ]
  },
  {
   "cell_type": "markdown",
   "metadata": {
    "pycharm": {
     "is_executing": false,
     "name": "#%% md\n"
    }
   },
   "source": [
    "Also we could use correlation methods i.e. Pearsons Correlation to identify correlations between classes, this way we might find correlations that are not visible or more than 2-Dimensional.\n"
   ]
  },
  {
   "cell_type": "code",
   "execution_count": 49,
   "metadata": {},
   "outputs": [],
   "source": [
    "## How do we define a good value for n_neighbors or k value?\n",
    "# Using a square root of the data length and checking that it is an odd number!\n",
    "\n",
    "#import math\n",
    "#math.sqrt(len(y_test))\n",
    "## 82.04876598706406\n",
    "\n",
    "## So, the optimal value for k is 82 - 1\n",
    "n_neighbors = 81"
   ]
  },
  {
   "cell_type": "code",
   "execution_count": 52,
   "metadata": {
    "pycharm": {
     "is_executing": false,
     "name": "#%%\n"
    }
   },
   "outputs": [
    {
     "data": {
      "image/png": "[encoded data removed]",
      "text/plain": [
       "<Figure size 432x288 with 1 Axes>"
      ]
     },
     "metadata": {
      "needs_background": "light"
     },
     "output_type": "display_data"
    }
   ],
   "source": [
    "# PCA\n",
    "y_labels = y_enc.astype(int).values[:,-1]\n",
    "from sklearn.decomposition import PCA\n",
    "from sklearn.model_selection import train_test_split\n",
    "from sklearn.decomposition import PCA\n",
    "from sklearn.discriminant_analysis import LinearDiscriminantAnalysis\n",
    "from sklearn.neighbors import (KNeighborsClassifier,\n",
    "                               NeighborhoodComponentsAnalysis)\n",
    "from sklearn.pipeline import make_pipeline\n",
    "from sklearn.preprocessing import StandardScaler\n",
    "\n",
    "random_state = 42\n",
    "\n",
    "# Split into train/test\n",
    "X_train, X_test, y_train, y_test = train_test_split(X_enc, y_enc, test_size=0.8, stratify=y_labels,\n",
    "                     random_state=random_state)\n",
    "\n",
    "# Reduce dimension to 2 with PCA\n",
    "pca = make_pipeline(StandardScaler(),\n",
    "                    PCA(n_components=2, random_state=random_state))\n",
    "\n",
    "# Use a nearest neighbor classifier to evaluate the methods\n",
    "# p = 2 we are looking for Mushroom edible or not\n",
    "knn = KNeighborsClassifier(n_neighbors=n_neighbors,p=2,metric='euclidean')\n",
    "plt.figure()\n",
    "pca.fit(X_train, y_train)\n",
    "\n",
    "# Fit a nearest neighbor classifier on the embedded training set\n",
    "knn.fit(pca.transform(X_train), y_train)\n",
    "\n",
    "# Compute the nearest neighbor accuracy on the embedded test set\n",
    "acc_knn = knn.score(pca.transform(X_test), y_test)\n",
    "\n",
    "# Embed the data set in 2 dimensions using the fitted model\n",
    "X_embedded = pca.transform(X_enc)\n",
    "\n",
    "# Plot the projected points and show the evaluation score\n",
    "plt.scatter(X_embedded[:, 0], X_embedded[:, 1], c=y_labels, s=10)\n",
    "plt.title(\"{}, KNN (k={})\\nTest accuracy = {:.2f}\".format('PCA', n_neighbors, acc_knn))\n",
    "plt.show()"
   ]
  },
  {
   "cell_type": "markdown",
   "metadata": {
    "pycharm": {
     "name": "#%% md\n"
    }
   },
   "source": [
    "This looks like knn gives us a good fitting method for testing additional samples. \n",
    "The benefit is that knn works also on smaller dimensions. (IE. if we only have 3-4 dimensions of information from a new mushroom, that we want to classify now)\n",
    "\n",
    "\n"
   ]
  },
  {
   "cell_type": "markdown",
   "metadata": {},
   "source": [
    "### Evaluating the model"
   ]
  },
  {
   "cell_type": "code",
   "execution_count": 56,
   "metadata": {},
   "outputs": [],
   "source": [
    "from sklearn.metrics import confusion_matrix\n",
    "from sklearn.metrics import f1_score\n",
    "from sklearn.metrics import accuracy_score"
   ]
  },
  {
   "cell_type": "code",
   "execution_count": 80,
   "metadata": {},
   "outputs": [
    {
     "name": "stdout",
     "output_type": "stream",
     "text": [
      "6732 (6732,) 6732 6732 (6732, 22)\n",
      "[0 1 1 ... 1 0 0]\n"
     ]
    }
   ],
   "source": [
    "y_pred = knn.predict(pca.transform(X_test))\n",
    "\n",
    "print(len(y_pred), y_pred.shape,len(y_test), len(X_test), X_test.shape)\n",
    "print(y_pred)"
   ]
  },
  {
   "cell_type": "code",
   "execution_count": 70,
   "metadata": {},
   "outputs": [],
   "source": [
    "# Using confusion matrix to evaluate the y predicted data\n",
    "cm = confusion_matrix(y_test,y_pred)"
   ]
  },
  {
   "cell_type": "markdown",
   "metadata": {},
   "source": [
    "<img src=\"./resources/confusion_table_ef.JPG\" width=\"\" />"
   ]
  },
  {
   "cell_type": "code",
   "execution_count": 71,
   "metadata": {},
   "outputs": [
    {
     "data": {
      "text/plain": [
       "array([[3087,  503],\n",
       "       [ 109, 3033]], dtype=int64)"
      ]
     },
     "execution_count": 71,
     "metadata": {},
     "output_type": "execute_result"
    }
   ],
   "source": [
    "cm"
   ]
  },
  {
   "cell_type": "markdown",
   "metadata": {},
   "source": [
    "- As result we have 3087 mushroom edible species.\n",
    "- 3033 poisonous mushrooms.\n",
    "- 109 possible errors\n",
    "- 503 false positives. "
   ]
  },
  {
   "cell_type": "code",
   "execution_count": 81,
   "metadata": {},
   "outputs": [
    {
     "data": {
      "text/plain": [
       "0.9083557951482479"
      ]
     },
     "execution_count": 81,
     "metadata": {},
     "output_type": "execute_result"
    }
   ],
   "source": [
    "f1_score(y_test,y_pred)"
   ]
  },
  {
   "cell_type": "code",
   "execution_count": 82,
   "metadata": {},
   "outputs": [
    {
     "data": {
      "text/plain": [
       "0.9090909090909091"
      ]
     },
     "execution_count": 82,
     "metadata": {},
     "output_type": "execute_result"
    }
   ],
   "source": [
    "accuracy_score(y_test,y_pred)"
   ]
  },
  {
   "cell_type": "markdown",
   "metadata": {},
   "source": [
    "## Reference"
   ]
  },
  {
   "cell_type": "markdown",
   "metadata": {},
   "source": [
    "(1) Metzler S. Metzler V. Orson K. Texas Mushrooms. University of Texas Press. Austin. https://books.google.cz/books?id=HRtfvVigMmsC&pg=PA37&redir_esc=y#v=onepage&q&f=false <br>\n",
    "(2) Haytowitz. Vitamin D in Mushrooms. Nutrient Data Laboratory, Beltsville Human Nutrition Research Center. <br>\n",
    "(3) Indiana State Parks - Common Mushrooms <br>\n",
    "(4) British Fungi - Elementary Text-Book <br>\n",
    "(5) https://www.usask.ca/biology/fungi/home_%20page.shtml"
   ]
  },
  {
   "cell_type": "markdown",
   "metadata": {},
   "source": []
  },
  {
   "cell_type": "code",
   "execution_count": null,
   "metadata": {},
   "outputs": [],
   "source": []
  }
 ],
 "metadata": {
  "kernelspec": {
   "display_name": "Python 3",
   "language": "python",
   "name": "python3"
  },
  "language_info": {
   "codemirror_mode": {
    "name": "ipython",
    "version": 3
   },
   "file_extension": ".py",
   "mimetype": "text/x-python",
   "name": "python",
   "nbconvert_exporter": "python",
   "pygments_lexer": "ipython3",
   "version": "3.7.4"
  },
  "pycharm": {
   "stem_cell": {
    "cell_type": "raw",
    "source": [],
    "metadata": {
     "collapsed": false
    }
   }
  }
 },
 "nbformat": 4,
 "nbformat_minor": 2
}