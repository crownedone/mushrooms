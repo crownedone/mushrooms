{
 "cells": [
  {
   "cell_type": "markdown",
   "metadata": {},
   "source": [
    "# Mushrooms"
   ]
  },
  {
   "cell_type": "markdown",
   "metadata": {},
   "source": [
    "<div style=\"height: 150px; width: 100%; overflow:hidden; position: relative;\">\n",
    "    <div style=\"position: absolute; color: white; bottom: 20%; left: 3%; z-index: 10;\">\n",
    "        <p style=\"\">\n",
    "        AI centered investigation on mushroom data set. Using python\n",
    "        </p>\n",
    "    </div>\n",
    "    <img src=\"./resources/background.jpg\" alt=\"Background mushrooms\" style=\"transform: translateY(-18%);\" />\n",
    "</div>\n"
   ]
  },
  {
   "cell_type": "markdown",
   "metadata": {},
   "source": [
    "> <p style=\"font-size: .8em; color: gray;\">Presented by:</p>\n",
    "> ARGUELLO Camilo <br>\n",
    "> EHRLE Steffen"
   ]
  },
  {
   "cell_type": "markdown",
   "metadata": {},
   "source": [
    "## Contents"
   ]
  },
  {
   "cell_type": "markdown",
   "metadata": {},
   "source": [
    "1. [Introduction](#introduction)\n",
    "2. [State of art](#state-of-art)\n",
    "3. [Mushrooms](#mushrooms)\n",
    "4. [Analysis](#analysis)\n",
    "5. [Results](#results)\n",
    "6. [Conclusions](#conclusions)"
   ]
  },
  {
   "cell_type": "markdown",
   "metadata": {},
   "source": [
    "## Introduction"
   ]
  },
  {
   "cell_type": "markdown",
   "metadata": {},
   "source": [
    "<p style=\"text-align: justify\"> Eating wild mushrooms can be a treat; they are one of the few plant foods which contain vitamin D and some other benefits for the human beings [3], however, adverse reactions can occur after eating a wild mushroom. Some of those negative reactions include serious respiratory symptoms, with nauseas and vomiting. As consecuence vital organs could be damaged, which can result in death. [1] Thus, the objective for this research is to analyze and predict whether a mushroom is edible or poisonous based on certain characteristics. </p>"
   ]
  },
  {
   "cell_type": "markdown",
   "metadata": {},
   "source": [
    "## State of art"
   ]
  },
  {
   "cell_type": "markdown",
   "metadata": {},
   "source": [
    "It  is  very  difficult  to  distinguish  between  edible and  poisonous  mushrooms.  Based on the experience of many scientist, there  are  some  observations,  which  may  help  to  identify the poisonous  mushrooms: bright color,  pink  spores,  a hot burning  taste  or  acidic  flavor,  growing  on  wooden  pieces in  hidden  places,  difficult  to  break  and  bear  a  cup  like structure  (volva)  at  the  base.  Some  of  the   poisonous mushrooms   when   taken   orally   produce   hallucinations. These include toadstools of the  genera Amanita, Psilocybe and Conocybe [5]."
   ]
  },
  {
   "cell_type": "markdown",
   "metadata": {},
   "source": [
    "In the literature, many authors have worked on solve this problem using new techniques such as trained algorithms, predictors and so on. One of them was presented by Glockner [2], who used a deep learning algorithm to solve the problem even when there are few information about mushrooms. Glockner found almost 1200 pictures about edible and poisonous mushrooms. Using a TensorFlow based network to train the algorithm. To test the program, each image has a score for poison and for edible (0..1), with an accuracy of almost ~97%."
   ]
  },
  {
   "cell_type": "markdown",
   "metadata": {},
   "source": [
    "<p>Other projects such as the present by Garziano [4], who creates a huge domain knowledge about the mushrooms. His study includes the feature analysis such as the structure, color, shape and size of a mushroom. Each feature gives a importance to determine if the mushroom is edible or not. The feature analysis gives some interesting facts to solve the problem, i.e  <i>\"only poisonous mushrooms have convex cap-shape</i> or <i>\"only edible mushrooms have sunken cap-shape\"</i> Also, the analysis provided the importance level for each feature compared with the others ones. Finally, the author were able to estimate if a mushroom was edible or not based on certain characteristics.</p>"
   ]
  },
  {
   "cell_type": "markdown",
   "metadata": {},
   "source": [
    "## Mushrooms"
   ]
  },
  {
   "cell_type": "markdown",
   "metadata": {},
   "source": [
    "Mushrooms are a type of fungus. They are non-flowering and can grow in a variety of habitats. Mushrooms and other fungi reproduce by small dust-like particles called spores. Typically produced above ground on soil or on its food source.\n",
    "\n",
    "They have a long history, both in folklore and in the kitchen. where we can cook many species of them. Also, mushrooms have served humans as medecine and psychoactive drugs, religious symbols and helpful tools."
   ]
  },
  {
   "cell_type": "markdown",
   "metadata": {},
   "source": [
    "<img src=\"http://4.bp.blogspot.com/_d76A8FQ9xm0/SZomQ1rQyeI/AAAAAAAABFc/wQsySaXNqno/s400/mushroom+diagram.jpg\" />"
   ]
  },
  {
   "cell_type": "markdown",
   "metadata": {},
   "source": [
    "Identifying mushrooms requires a basic understanding of their structure.  They have spores which are produced on the gills (under the cap). The ring which surround the stem or stalk is present in some species. The base is called volva (in the bottom). \n",
    "\n",
    "An important factor to the identification is the color, this is used to help classify mushrooms and it can help to identify them. Spore print colors include white (most common), brown, black, purple-brown, pink, yellow, and creamy, but almost never blue, green, or red.\n",
    "\n",
    "In the literature, there are some clasifications for the Mushrooms. The fungi society of Saskatchewan created a glossary to help to understand the mushrooms [7]."
   ]
  },
  {
   "cell_type": "markdown",
   "metadata": {},
   "source": [
    "### Mushroom Features Glossary\n",
    "\n",
    "The cap can be found on different presentations such as the convex, or conical and even flat. This is the upper parte of the mushroom. We can see some examples in the following image."
   ]
  },
  {
   "cell_type": "markdown",
   "metadata": {},
   "source": [
    "<img src=\"./resources/cap_shapes.jfif\" width=\"500px\" />"
   ]
  },
  {
   "cell_type": "markdown",
   "metadata": {},
   "source": [
    "Under the cap there is a region called the Gills, which is a series of radially surfaces. The spores depends by the gills."
   ]
  },
  {
   "cell_type": "markdown",
   "metadata": {},
   "source": [
    "<img src=\"./resources/gill_spacing.jfif\" alt=\"\" />"
   ]
  },
  {
   "cell_type": "markdown",
   "metadata": {},
   "source": [
    "The stalk, also known as stem is the main support of the mushroom. It is topped by the cap.\n",
    "\n",
    "The mushrooms also have a ring, which is a surface circligng the stem. It is present of mature mushroms. The ring is also a tissue that connects the stem and the caps before the gills are exposed and the fruiting body develops. It is present in some species of mushrooms, not in all."
   ]
  },
  {
   "cell_type": "markdown",
   "metadata": {},
   "source": [
    "<img src=\"./resources/annular_rings.jfif\" width=\"500px\"/>"
   ]
  },
  {
   "cell_type": "markdown",
   "metadata": {},
   "source": [
    "In the base of the mushroom exists the volva, which is a cup rounded. It is present befor the fruiting body appears."
   ]
  },
  {
   "cell_type": "markdown",
   "metadata": {},
   "source": [
    "<img src=\"./resources/stipes_stmes.jfif\" width=\"500px\" />"
   ]
  },
  {
   "cell_type": "markdown",
   "metadata": {},
   "source": [
    "Based on this research we would like analyze the mushroom to determine whether they are edible or not."
   ]
  },
  {
   "cell_type": "markdown",
   "metadata": {
    "pycharm": {
     "name": "#%% md\n"
    }
   },
   "source": [
    "## Analysis"
   ]
  },
  {
   "cell_type": "markdown",
   "metadata": {},
   "source": [
    "All the libraries needed for the project are in the `sllab.py` file."
   ]
  },
  {
   "cell_type": "code",
   "execution_count": 31,
   "metadata": {},
   "outputs": [],
   "source": [
    "from sllab import *"
   ]
  },
  {
   "cell_type": "markdown",
   "metadata": {},
   "source": [
    "The `MultiColumnLabelEncoder` class was added to help, analyze and manage the data. The reason to use it was to reshape the information into a numerical values."
   ]
  },
  {
   "cell_type": "code",
   "execution_count": 32,
   "metadata": {
    "pycharm": {
     "is_executing": false
    }
   },
   "outputs": [],
   "source": [
    "# A utility from https://stackoverflow.com/questions/24458645/label-encoding-across-multiple-columns-in-scikit-learn\n",
    "# Adapted and changed to Labelbonarizer that fits with the whole dataframe.\n",
    "class MultiColumnLabelEncoder:\n",
    "    def __init__(self,columns = None):\n",
    "        self.columns = columns # array of column names to encode\n",
    "        self.lb = pp.LabelEncoder()\n",
    "        \n",
    "    def fit(self,X,y=None):\n",
    "        self.lb.fit(np.concatenate(X.to_numpy(), axis=0))\n",
    "        return self\n",
    "\n",
    "    def transform(self,X):\n",
    "        output = X.copy()\n",
    "        if self.columns is None:\n",
    "            self.columns = output.columns\n",
    "        \n",
    "        for col_id, col in enumerate(self.columns):\n",
    "            output[col] = self.lb.transform(output[col])\n",
    "                \n",
    "        return output\n",
    "\n",
    "    def fit_transform(self,X,y=None):\n",
    "        return self.fit(X,y).transform(X)\n",
    "    "
   ]
  },
  {
   "cell_type": "markdown",
   "metadata": {
    "pycharm": {
     "name": "#%% md\n"
    }
   },
   "source": [
    "The mushroom dataset, provide different files where the information was classified by `short-names` and `expanded`. Both contains information about more than 1 thousand of studied species and their characteristics. In terms of the project, the caracteristics are called features. In the expanded file, we could find the whole dataset with the full name for each feature, however in the `agaricus-lepiota.data` or short name file, only the first letter for each feature name is stored. This is an optimization in terms of use of hardware resources."
   ]
  },
  {
   "cell_type": "code",
   "execution_count": 3,
   "metadata": {
    "pycharm": {
     "is_executing": false
    },
    "scrolled": true
   },
   "outputs": [],
   "source": [
    "data_names = pd.read_csv(\"expanded\",\n",
    "                    skiprows=9,\n",
    "                    skipfooter=1)"
   ]
  },
  {
   "cell_type": "code",
   "execution_count": 4,
   "metadata": {
    "pycharm": {
     "is_executing": false
    }
   },
   "outputs": [
    {
     "data": {
      "text/html": [
       "<div>\n",
       "<style scoped>\n",
       "    .dataframe tbody tr th:only-of-type {\n",
       "        vertical-align: middle;\n",
       "    }\n",
       "\n",
       "    .dataframe tbody tr th {\n",
       "        vertical-align: top;\n",
       "    }\n",
       "\n",
       "    .dataframe thead th {\n",
       "        text-align: right;\n",
       "    }\n",
       "</style>\n",
       "<table border=\"1\" class=\"dataframe\">\n",
       "  <thead>\n",
       "    <tr style=\"text-align: right;\">\n",
       "      <th></th>\n",
       "      <th>EDIBLE</th>\n",
       "      <th>CONVEX</th>\n",
       "      <th>SMOOTH</th>\n",
       "      <th>WHITE</th>\n",
       "      <th>BRUISES</th>\n",
       "      <th>ALMOND</th>\n",
       "      <th>FREE</th>\n",
       "      <th>CROWDED</th>\n",
       "      <th>NARROW</th>\n",
       "      <th>WHITE.1</th>\n",
       "      <th>...</th>\n",
       "      <th>SMOOTH.2</th>\n",
       "      <th>WHITE.2</th>\n",
       "      <th>WHITE.3</th>\n",
       "      <th>PARTIAL</th>\n",
       "      <th>WHITE.4</th>\n",
       "      <th>ONE</th>\n",
       "      <th>PENDANT</th>\n",
       "      <th>PURPLE</th>\n",
       "      <th>SEVERAL</th>\n",
       "      <th>WOODS</th>\n",
       "    </tr>\n",
       "  </thead>\n",
       "  <tbody>\n",
       "    <tr>\n",
       "      <td>0</td>\n",
       "      <td>EDIBLE</td>\n",
       "      <td>CONVEX</td>\n",
       "      <td>SMOOTH</td>\n",
       "      <td>WHITE</td>\n",
       "      <td>BRUISES</td>\n",
       "      <td>ALMOND</td>\n",
       "      <td>FREE</td>\n",
       "      <td>CROWDED</td>\n",
       "      <td>NARROW</td>\n",
       "      <td>WHITE</td>\n",
       "      <td>...</td>\n",
       "      <td>SMOOTH</td>\n",
       "      <td>WHITE</td>\n",
       "      <td>WHITE</td>\n",
       "      <td>PARTIAL</td>\n",
       "      <td>WHITE</td>\n",
       "      <td>ONE</td>\n",
       "      <td>PENDANT</td>\n",
       "      <td>BROWN</td>\n",
       "      <td>SEVERAL</td>\n",
       "      <td>WOODS</td>\n",
       "    </tr>\n",
       "    <tr>\n",
       "      <td>1</td>\n",
       "      <td>EDIBLE</td>\n",
       "      <td>CONVEX</td>\n",
       "      <td>SMOOTH</td>\n",
       "      <td>WHITE</td>\n",
       "      <td>BRUISES</td>\n",
       "      <td>ALMOND</td>\n",
       "      <td>FREE</td>\n",
       "      <td>CROWDED</td>\n",
       "      <td>NARROW</td>\n",
       "      <td>PINK</td>\n",
       "      <td>...</td>\n",
       "      <td>SMOOTH</td>\n",
       "      <td>WHITE</td>\n",
       "      <td>WHITE</td>\n",
       "      <td>PARTIAL</td>\n",
       "      <td>WHITE</td>\n",
       "      <td>ONE</td>\n",
       "      <td>PENDANT</td>\n",
       "      <td>PURPLE</td>\n",
       "      <td>SEVERAL</td>\n",
       "      <td>WOODS</td>\n",
       "    </tr>\n",
       "    <tr>\n",
       "      <td>2</td>\n",
       "      <td>EDIBLE</td>\n",
       "      <td>CONVEX</td>\n",
       "      <td>SMOOTH</td>\n",
       "      <td>WHITE</td>\n",
       "      <td>BRUISES</td>\n",
       "      <td>ALMOND</td>\n",
       "      <td>FREE</td>\n",
       "      <td>CROWDED</td>\n",
       "      <td>NARROW</td>\n",
       "      <td>PINK</td>\n",
       "      <td>...</td>\n",
       "      <td>SMOOTH</td>\n",
       "      <td>WHITE</td>\n",
       "      <td>WHITE</td>\n",
       "      <td>PARTIAL</td>\n",
       "      <td>WHITE</td>\n",
       "      <td>ONE</td>\n",
       "      <td>PENDANT</td>\n",
       "      <td>BROWN</td>\n",
       "      <td>SEVERAL</td>\n",
       "      <td>WOODS</td>\n",
       "    </tr>\n",
       "    <tr>\n",
       "      <td>3</td>\n",
       "      <td>EDIBLE</td>\n",
       "      <td>CONVEX</td>\n",
       "      <td>SMOOTH</td>\n",
       "      <td>WHITE</td>\n",
       "      <td>BRUISES</td>\n",
       "      <td>ALMOND</td>\n",
       "      <td>FREE</td>\n",
       "      <td>CROWDED</td>\n",
       "      <td>NARROW</td>\n",
       "      <td>BROWN</td>\n",
       "      <td>...</td>\n",
       "      <td>SMOOTH</td>\n",
       "      <td>WHITE</td>\n",
       "      <td>WHITE</td>\n",
       "      <td>PARTIAL</td>\n",
       "      <td>WHITE</td>\n",
       "      <td>ONE</td>\n",
       "      <td>PENDANT</td>\n",
       "      <td>PURPLE</td>\n",
       "      <td>SEVERAL</td>\n",
       "      <td>WOODS</td>\n",
       "    </tr>\n",
       "    <tr>\n",
       "      <td>4</td>\n",
       "      <td>EDIBLE</td>\n",
       "      <td>CONVEX</td>\n",
       "      <td>SMOOTH</td>\n",
       "      <td>WHITE</td>\n",
       "      <td>BRUISES</td>\n",
       "      <td>ALMOND</td>\n",
       "      <td>FREE</td>\n",
       "      <td>CROWDED</td>\n",
       "      <td>NARROW</td>\n",
       "      <td>BROWN</td>\n",
       "      <td>...</td>\n",
       "      <td>SMOOTH</td>\n",
       "      <td>WHITE</td>\n",
       "      <td>WHITE</td>\n",
       "      <td>PARTIAL</td>\n",
       "      <td>WHITE</td>\n",
       "      <td>ONE</td>\n",
       "      <td>PENDANT</td>\n",
       "      <td>BROWN</td>\n",
       "      <td>SEVERAL</td>\n",
       "      <td>WOODS</td>\n",
       "    </tr>\n",
       "  </tbody>\n",
       "</table>\n",
       "<p>5 rows × 23 columns</p>\n",
       "</div>"
      ],
      "text/plain": [
       "   EDIBLE  CONVEX  SMOOTH  WHITE  BRUISES  ALMOND  FREE  CROWDED  NARROW  \\\n",
       "0  EDIBLE  CONVEX  SMOOTH  WHITE  BRUISES  ALMOND  FREE  CROWDED  NARROW   \n",
       "1  EDIBLE  CONVEX  SMOOTH  WHITE  BRUISES  ALMOND  FREE  CROWDED  NARROW   \n",
       "2  EDIBLE  CONVEX  SMOOTH  WHITE  BRUISES  ALMOND  FREE  CROWDED  NARROW   \n",
       "3  EDIBLE  CONVEX  SMOOTH  WHITE  BRUISES  ALMOND  FREE  CROWDED  NARROW   \n",
       "4  EDIBLE  CONVEX  SMOOTH  WHITE  BRUISES  ALMOND  FREE  CROWDED  NARROW   \n",
       "\n",
       "  WHITE.1  ... SMOOTH.2 WHITE.2 WHITE.3  PARTIAL WHITE.4  ONE  PENDANT  \\\n",
       "0   WHITE  ...   SMOOTH   WHITE   WHITE  PARTIAL   WHITE  ONE  PENDANT   \n",
       "1    PINK  ...   SMOOTH   WHITE   WHITE  PARTIAL   WHITE  ONE  PENDANT   \n",
       "2    PINK  ...   SMOOTH   WHITE   WHITE  PARTIAL   WHITE  ONE  PENDANT   \n",
       "3   BROWN  ...   SMOOTH   WHITE   WHITE  PARTIAL   WHITE  ONE  PENDANT   \n",
       "4   BROWN  ...   SMOOTH   WHITE   WHITE  PARTIAL   WHITE  ONE  PENDANT   \n",
       "\n",
       "   PURPLE  SEVERAL  WOODS  \n",
       "0   BROWN  SEVERAL  WOODS  \n",
       "1  PURPLE  SEVERAL  WOODS  \n",
       "2   BROWN  SEVERAL  WOODS  \n",
       "3  PURPLE  SEVERAL  WOODS  \n",
       "4   BROWN  SEVERAL  WOODS  \n",
       "\n",
       "[5 rows x 23 columns]"
      ]
     },
     "execution_count": 4,
     "metadata": {},
     "output_type": "execute_result"
    }
   ],
   "source": [
    "data_names.head()"
   ]
  },
  {
   "cell_type": "code",
   "execution_count": 5,
   "metadata": {
    "pycharm": {
     "is_executing": false,
     "name": "#%%\n"
    }
   },
   "outputs": [],
   "source": [
    "dataset = pd.read_csv(\"agaricus-lepiota.data\",\n",
    "                    skiprows=9,\n",
    "                    skipfooter=1)"
   ]
  },
  {
   "cell_type": "code",
   "execution_count": 6,
   "metadata": {
    "pycharm": {
     "name": "#%%\n"
    }
   },
   "outputs": [
    {
     "data": {
      "text/html": [
       "<div>\n",
       "<style scoped>\n",
       "    .dataframe tbody tr th:only-of-type {\n",
       "        vertical-align: middle;\n",
       "    }\n",
       "\n",
       "    .dataframe tbody tr th {\n",
       "        vertical-align: top;\n",
       "    }\n",
       "\n",
       "    .dataframe thead th {\n",
       "        text-align: right;\n",
       "    }\n",
       "</style>\n",
       "<table border=\"1\" class=\"dataframe\">\n",
       "  <thead>\n",
       "    <tr style=\"text-align: right;\">\n",
       "      <th></th>\n",
       "      <th>e</th>\n",
       "      <th>b</th>\n",
       "      <th>s</th>\n",
       "      <th>y</th>\n",
       "      <th>t</th>\n",
       "      <th>a</th>\n",
       "      <th>f</th>\n",
       "      <th>c</th>\n",
       "      <th>b.1</th>\n",
       "      <th>g</th>\n",
       "      <th>...</th>\n",
       "      <th>s.2</th>\n",
       "      <th>w</th>\n",
       "      <th>w.1</th>\n",
       "      <th>p</th>\n",
       "      <th>w.2</th>\n",
       "      <th>o</th>\n",
       "      <th>p.1</th>\n",
       "      <th>k</th>\n",
       "      <th>s.3</th>\n",
       "      <th>m</th>\n",
       "    </tr>\n",
       "  </thead>\n",
       "  <tbody>\n",
       "    <tr>\n",
       "      <td>0</td>\n",
       "      <td>e</td>\n",
       "      <td>x</td>\n",
       "      <td>y</td>\n",
       "      <td>y</td>\n",
       "      <td>t</td>\n",
       "      <td>l</td>\n",
       "      <td>f</td>\n",
       "      <td>c</td>\n",
       "      <td>b</td>\n",
       "      <td>g</td>\n",
       "      <td>...</td>\n",
       "      <td>s</td>\n",
       "      <td>w</td>\n",
       "      <td>w</td>\n",
       "      <td>p</td>\n",
       "      <td>w</td>\n",
       "      <td>o</td>\n",
       "      <td>p</td>\n",
       "      <td>n</td>\n",
       "      <td>n</td>\n",
       "      <td>g</td>\n",
       "    </tr>\n",
       "    <tr>\n",
       "      <td>1</td>\n",
       "      <td>e</td>\n",
       "      <td>x</td>\n",
       "      <td>y</td>\n",
       "      <td>y</td>\n",
       "      <td>t</td>\n",
       "      <td>a</td>\n",
       "      <td>f</td>\n",
       "      <td>c</td>\n",
       "      <td>b</td>\n",
       "      <td>n</td>\n",
       "      <td>...</td>\n",
       "      <td>s</td>\n",
       "      <td>w</td>\n",
       "      <td>w</td>\n",
       "      <td>p</td>\n",
       "      <td>w</td>\n",
       "      <td>o</td>\n",
       "      <td>p</td>\n",
       "      <td>k</td>\n",
       "      <td>s</td>\n",
       "      <td>m</td>\n",
       "    </tr>\n",
       "    <tr>\n",
       "      <td>2</td>\n",
       "      <td>e</td>\n",
       "      <td>b</td>\n",
       "      <td>s</td>\n",
       "      <td>y</td>\n",
       "      <td>t</td>\n",
       "      <td>a</td>\n",
       "      <td>f</td>\n",
       "      <td>c</td>\n",
       "      <td>b</td>\n",
       "      <td>w</td>\n",
       "      <td>...</td>\n",
       "      <td>s</td>\n",
       "      <td>w</td>\n",
       "      <td>w</td>\n",
       "      <td>p</td>\n",
       "      <td>w</td>\n",
       "      <td>o</td>\n",
       "      <td>p</td>\n",
       "      <td>n</td>\n",
       "      <td>s</td>\n",
       "      <td>g</td>\n",
       "    </tr>\n",
       "    <tr>\n",
       "      <td>3</td>\n",
       "      <td>p</td>\n",
       "      <td>x</td>\n",
       "      <td>y</td>\n",
       "      <td>w</td>\n",
       "      <td>t</td>\n",
       "      <td>p</td>\n",
       "      <td>f</td>\n",
       "      <td>c</td>\n",
       "      <td>n</td>\n",
       "      <td>k</td>\n",
       "      <td>...</td>\n",
       "      <td>s</td>\n",
       "      <td>w</td>\n",
       "      <td>w</td>\n",
       "      <td>p</td>\n",
       "      <td>w</td>\n",
       "      <td>o</td>\n",
       "      <td>p</td>\n",
       "      <td>n</td>\n",
       "      <td>v</td>\n",
       "      <td>u</td>\n",
       "    </tr>\n",
       "    <tr>\n",
       "      <td>4</td>\n",
       "      <td>e</td>\n",
       "      <td>x</td>\n",
       "      <td>f</td>\n",
       "      <td>n</td>\n",
       "      <td>f</td>\n",
       "      <td>n</td>\n",
       "      <td>f</td>\n",
       "      <td>w</td>\n",
       "      <td>b</td>\n",
       "      <td>n</td>\n",
       "      <td>...</td>\n",
       "      <td>f</td>\n",
       "      <td>w</td>\n",
       "      <td>w</td>\n",
       "      <td>p</td>\n",
       "      <td>w</td>\n",
       "      <td>o</td>\n",
       "      <td>e</td>\n",
       "      <td>k</td>\n",
       "      <td>a</td>\n",
       "      <td>g</td>\n",
       "    </tr>\n",
       "  </tbody>\n",
       "</table>\n",
       "<p>5 rows × 23 columns</p>\n",
       "</div>"
      ],
      "text/plain": [
       "   e  b  s  y  t  a  f  c b.1  g  ... s.2  w w.1  p w.2  o p.1  k s.3  m\n",
       "0  e  x  y  y  t  l  f  c   b  g  ...   s  w   w  p   w  o   p  n   n  g\n",
       "1  e  x  y  y  t  a  f  c   b  n  ...   s  w   w  p   w  o   p  k   s  m\n",
       "2  e  b  s  y  t  a  f  c   b  w  ...   s  w   w  p   w  o   p  n   s  g\n",
       "3  p  x  y  w  t  p  f  c   n  k  ...   s  w   w  p   w  o   p  n   v  u\n",
       "4  e  x  f  n  f  n  f  w   b  n  ...   f  w   w  p   w  o   e  k   a  g\n",
       "\n",
       "[5 rows x 23 columns]"
      ]
     },
     "execution_count": 6,
     "metadata": {},
     "output_type": "execute_result"
    }
   ],
   "source": [
    "dataset.head()"
   ]
  },
  {
   "cell_type": "markdown",
   "metadata": {},
   "source": [
    "## Understanding the data"
   ]
  },
  {
   "cell_type": "markdown",
   "metadata": {
    "pycharm": {
     "name": "#%% md\n"
    }
   },
   "source": [
    "This data set includes descriptions of hypothetical samples corresponding to 23 species of gilled mushrooms in the Agaricus and Lepiota Family (pp. 500-525).  Each species is identified as definitely edible, definitely poisonous, or of unknown edibility and not recommended.  This latter class was combined with the poisonous one.  The Guide clearly states that there is no simple rule for determining the edibility of a mushroom; no rule like ``leaflets three, let it be'' for Poisonous Oak and Ivy."
   ]
  },
  {
   "cell_type": "markdown",
   "metadata": {
    "pycharm": {
     "name": "#%% md\n"
    }
   },
   "source": [
    "1. Adding titles to organize the info"
   ]
  },
  {
   "cell_type": "code",
   "execution_count": 7,
   "metadata": {
    "pycharm": {
     "is_executing": false
    }
   },
   "outputs": [],
   "source": [
    "classes = np.array([\n",
    "    'class',\n",
    "    'cap-shape', \n",
    "    'cap-surface', \n",
    "    'cap-color',\n",
    "    'bruises?',\n",
    "    'odor',\n",
    "    'gill-attachment',\n",
    "    'gill-spacing',\n",
    "    'gill-size',\n",
    "    'gill-color',\n",
    "    'stalk-shape',\n",
    "    'stalk-root',\n",
    "    'stalk-surface-above-ring',\n",
    "    'stalk-surface-below-ring',\n",
    "    'stalk-color-above-ring',\n",
    "    'stalk-color-below-ring',\n",
    "    'veil-type',\n",
    "    'veil-color',\n",
    "    'ring-number',\n",
    "    'ring-type',\n",
    "    'spore-print-color',\n",
    "    'population',\n",
    "    'habitat'])\n",
    "\n",
    "featured_classes = np.array([\n",
    "    'cap-shape', \n",
    "    'cap-surface', \n",
    "    'cap-color',\n",
    "    'bruises?',\n",
    "    'odor',\n",
    "    'gill-attachment',\n",
    "    'gill-spacing',\n",
    "    'gill-size',\n",
    "    'gill-color',\n",
    "    'stalk-shape',\n",
    "    'stalk-root',\n",
    "    'stalk-surface-above-ring',\n",
    "    'stalk-surface-below-ring',\n",
    "    'stalk-color-above-ring',\n",
    "    'stalk-color-below-ring',\n",
    "    'veil-type',\n",
    "    'veil-color',\n",
    "    'ring-number',\n",
    "    'ring-type',\n",
    "    'spore-print-color',\n",
    "    'population',\n",
    "    'habitat'])"
   ]
  },
  {
   "cell_type": "markdown",
   "metadata": {},
   "source": [
    "The data is separated into features `X` and expected value `y`."
   ]
  },
  {
   "cell_type": "code",
   "execution_count": 8,
   "metadata": {
    "pycharm": {
     "is_executing": false
    }
   },
   "outputs": [],
   "source": [
    "dataset = pd.DataFrame(dataset.values, columns=classes)\n",
    "X_data, y_data = pd.DataFrame(dataset, columns=featured_classes), pd.DataFrame(dataset, columns=['class'])"
   ]
  },
  {
   "cell_type": "markdown",
   "metadata": {},
   "source": [
    "2. Transform the data into a numerical values. Using the previous MultiColumnLabelEncoder function we can rebuild the information in terms of numbers to analyze them."
   ]
  },
  {
   "cell_type": "code",
   "execution_count": 33,
   "metadata": {
    "pycharm": {
     "is_executing": false,
     "name": "#%%\n"
    }
   },
   "outputs": [],
   "source": [
    "from sklearn.preprocessing import StandardScaler\n",
    "\n",
    "X = MultiColumnLabelEncoder().fit_transform(X_data)\n",
    "y = MultiColumnLabelEncoder().fit_transform(y_data)"
   ]
  },
  {
   "cell_type": "code",
   "execution_count": 10,
   "metadata": {
    "pycharm": {
     "is_executing": false
    }
   },
   "outputs": [
    {
     "data": {
      "text/plain": [
       "(8113, 22)"
      ]
     },
     "execution_count": 10,
     "metadata": {},
     "output_type": "execute_result"
    }
   ],
   "source": [
    "X.shape"
   ]
  },
  {
   "cell_type": "code",
   "execution_count": 11,
   "metadata": {
    "pycharm": {
     "is_executing": false,
     "name": "#%%\n"
    }
   },
   "outputs": [
    {
     "name": "stdout",
     "output_type": "stream",
     "text": [
      "Normalized data mean, and a standard deviation cap-shape                   12.869839\n",
      "cap-surface                 15.532109\n",
      "cap-color                   11.708000\n",
      "bruises?                    10.565142\n",
      "odor                        10.606434\n",
      "gill-attachment              5.871194\n",
      "gill-spacing                 5.747073\n",
      "gill-size                    5.092567\n",
      "gill-color                  10.852582\n",
      "stalk-shape                 11.814249\n",
      "stalk-root                   2.177000\n",
      "stalk-surface-above-ring    13.290768\n",
      "stalk-surface-below-ring    13.482559\n",
      "stalk-color-above-ring      15.876618\n",
      "stalk-color-below-ring      15.817453\n",
      "veil-type                   14.000000\n",
      "veil-color                  19.825342\n",
      "ring-number                 13.291384\n",
      "ring-type                   10.226427\n",
      "spore-print-color           12.928017\n",
      "population                  17.313078\n",
      "habitat                      8.076174\n",
      "dtype: float64 cap-shape                   7.496994\n",
      "cap-surface                 6.541714\n",
      "cap-color                   6.217069\n",
      "bruises?                    5.419967\n",
      "odor                        4.901700\n",
      "gill-attachment             0.792109\n",
      "gill-spacing                6.257302\n",
      "gill-size                   4.621872\n",
      "gill-color                  6.184573\n",
      "stalk-shape                 5.944493\n",
      "stalk-root                  2.548768\n",
      "stalk-surface-above-ring    3.727814\n",
      "stalk-surface-below-ring    4.029103\n",
      "stalk-color-above-ring      5.402926\n",
      "stalk-color-below-ring      5.404900\n",
      "veil-type                   0.000000\n",
      "veil-color                  1.142153\n",
      "ring-number                 1.050152\n",
      "ring-type                   4.051910\n",
      "spore-print-color           4.974655\n",
      "population                  5.368198\n",
      "habitat                     4.493485\n",
      "dtype: float64\n"
     ]
    }
   ],
   "source": [
    "print(\"Data mean, and a standard deviation\",np.mean(X),np.std(X))"
   ]
  },
  {
   "cell_type": "markdown",
   "metadata": {},
   "source": [
    "## Our approach"
   ]
  },
  {
   "cell_type": "markdown",
   "metadata": {
    "pycharm": {
     "name": "#%% md\n"
    }
   },
   "source": [
    "Our idea was that we can translate the classes to numerical data. This way we could try linear regression methods.\n",
    "\n",
    "> Of course it may make no sense, if the outcome is 'between' labels, but it can yield sense in a way, as some classes are more fluid than others (i.E. colors: A mushroom can be in between yellow and white (beeing bright yellow))\n",
    ">\n",
    ">Even though we have no data on this level of accuracy, we might build a regression model that supports it."
   ]
  },
  {
   "cell_type": "markdown",
   "metadata": {
    "pycharm": {
     "is_executing": false,
     "name": "#%% md\n"
    }
   },
   "source": [
    "Also we could use correlation methods i.e. Pearsons Correlation to identify correlations between classes, this way we might find correlations that are not visible or more than 2-Dimensional.\n"
   ]
  },
  {
   "cell_type": "code",
   "execution_count": 47,
   "metadata": {
    "pycharm": {
     "name": "#%%\n"
    }
   },
   "outputs": [],
   "source": [
    "#y_labels = y.astype(int)[:,-1] # Parsing into a boolean values\n",
    "y_labels = y.astype(int).values[:,-1]\n",
    "random_state = 42\n",
    "\n",
    "# Split into train/test\n",
    "X_train, X_test, y_train, y_test = train_test_split(X, y, test_size=0.25, stratify=y_labels, random_state=random_state)"
   ]
  },
  {
   "cell_type": "markdown",
   "metadata": {},
   "source": [
    "How do we define a good value for n_neighbors or k value? Using a square root of the data length and checking that it is an odd number!"
   ]
  },
  {
   "cell_type": "code",
   "execution_count": 48,
   "metadata": {
    "pycharm": {
     "name": "#%%\n"
    }
   },
   "outputs": [],
   "source": [
    "#import math\n",
    "#k = math.sqrt(len(y_test))\n",
    "\n",
    "## So, the optimal value for k is k - 1\n",
    "n_neighbors = int(math.sqrt(len(y_test)))"
   ]
  },
  {
   "cell_type": "code",
   "execution_count": 49,
   "metadata": {},
   "outputs": [
    {
     "data": {
      "text/plain": [
       "45"
      ]
     },
     "execution_count": 49,
     "metadata": {},
     "output_type": "execute_result"
    }
   ],
   "source": [
    "import math\n",
    "int(math.sqrt(len(y_test)))"
   ]
  },
  {
   "cell_type": "code",
   "execution_count": 50,
   "metadata": {
    "pycharm": {
     "name": "#%%\n"
    }
   },
   "outputs": [
    {
     "data": {
      "text/plain": [
       "Text(0, 0.5, 'Accuracy')"
      ]
     },
     "execution_count": 50,
     "metadata": {},
     "output_type": "execute_result"
    },
    {
     "data": {
      "image/png": "[encoded data removed]",
      "text/plain": [
       "<Figure size 720x432 with 1 Axes>"
      ]
     },
     "metadata": {
      "needs_background": "light"
     },
     "output_type": "display_data"
    }
   ],
   "source": [
    "## 22 is the max number of components given the available features\n",
    "acc = []\n",
    "\n",
    "for i in range(1,len(featured_classes)):\n",
    "    #PIPELINE\n",
    "    pca = make_pipeline(PCA(n_components=i, random_state=random_state))\n",
    "    knn = KNeighborsClassifier(n_neighbors=n_neighbors,p=2,metric='euclidean')\n",
    "    pca.fit(X_train, y_train)\n",
    "    knn.fit(pca.transform(X_train), y_train)\n",
    "    acc_knn = knn.score(pca.transform(X_test), y_test)\n",
    "    acc.append(acc_knn)\n",
    "    \n",
    "plt.figure(figsize=(10,6))\n",
    "plt.plot(range(len(acc)), acc,'b-')\n",
    "plt.grid(True)\n",
    "plt.title(\"Accuracy of PCA given for each component\")\n",
    "plt.xlabel(\"Component\")\n",
    "plt.ylabel(\"Accuracy\")"
   ]
  },
  {
   "cell_type": "code",
   "execution_count": 46,
   "metadata": {
    "pycharm": {
     "name": "#%%\n"
    }
   },
   "outputs": [
    {
     "data": {
      "image/png": "[encoded data removed]",
      "text/plain": [
       "<Figure size 432x288 with 1 Axes>"
      ]
     },
     "metadata": {
      "needs_background": "light"
     },
     "output_type": "display_data"
    }
   ],
   "source": [
    "#PIPELINE\n",
    "# Reduce dimension to 2 with PCA\n",
    "# n_component=10 based on the accuracy test\n",
    "pca = make_pipeline(PCA(n_components=10, random_state=random_state))\n",
    "\n",
    "# Use a nearest neighbor classifier to evaluate the methods\n",
    "# p = 2 we are looking for Mushroom edible or not\n",
    "knn = KNeighborsClassifier(n_neighbors=n_neighbors,p=2,metric='euclidean')\n",
    "pca.fit(X_train, y_train)\n",
    "\n",
    "#trans = pca.transform(X_train)\n",
    "#print(trans, X_train.shape, y_train.shape)\n",
    "# Fit a nearest neighbor classifier on the embedded training set\n",
    "knn.fit(pca.transform(X_train), y_train)\n",
    "\n",
    "# Compute the nearest neighbor accuracy on the embedded test set\n",
    "acc_knn = knn.score(pca.transform(X_test), y_test)\n",
    "\n",
    "# Embed the data set in 2 dimensions using the fitted model\n",
    "X_embedded = pca.transform(X)\n",
    "\n",
    "# Plot the projected points and show the evaluation score\n",
    "plt.scatter(X_embedded[:, 0], X_embedded[:, 1], c=y_labels, s=10)\n",
    "plt.title(\"{}, KNN (k={})\\nTest accuracy = {:.2f}\".format('PCA', n_neighbors, acc_knn))\n",
    "plt.show()"
   ]
  },
  {
   "cell_type": "markdown",
   "metadata": {
    "pycharm": {
     "name": "#%% md\n"
    }
   },
   "source": [
    "### Evaluating the model"
   ]
  },
  {
   "cell_type": "code",
   "execution_count": 25,
   "metadata": {},
   "outputs": [
    {
     "name": "stdout",
     "output_type": "stream",
     "text": [
      "2029 (2029,) 2029 2029 (2029, 22)\n",
      "[1 1 1 ... 1 0 0]\n"
     ]
    }
   ],
   "source": [
    "y_pred = knn.predict(pca.transform(X_test))\n",
    "\n",
    "print(len(y_pred), y_pred.shape,len(y_test), len(X_test), X_test.shape)\n",
    "print(y_pred)"
   ]
  },
  {
   "cell_type": "code",
   "execution_count": 26,
   "metadata": {
    "pycharm": {
     "name": "#%%\n"
    }
   },
   "outputs": [
    {
     "name": "stdout",
     "output_type": "stream",
     "text": [
      "Using PCA               precision    recall  f1-score   support\n",
      "\n",
      "      edible       0.97      0.98      0.97      1050\n",
      "   poisonous       0.98      0.97      0.97       979\n",
      "\n",
      "    accuracy                           0.97      2029\n",
      "   macro avg       0.97      0.97      0.97      2029\n",
      "weighted avg       0.97      0.97      0.97      2029\n",
      "\n"
     ]
    }
   ],
   "source": [
    "print(\"Using PCA\",classification_report(y_test, y_pred, target_names=['edible','poisonous']))"
   ]
  },
  {
   "cell_type": "markdown",
   "metadata": {},
   "source": [
    "<img src=\"./resources/confusion_table_ef.JPG\" width=\"\" />"
   ]
  },
  {
   "cell_type": "code",
   "execution_count": 27,
   "metadata": {},
   "outputs": [
    {
     "data": {
      "text/plain": [
       "array([[1027,   23],\n",
       "       [  30,  949]], dtype=int64)"
      ]
     },
     "execution_count": 27,
     "metadata": {},
     "output_type": "execute_result"
    }
   ],
   "source": [
    "confusion_matrix(y_test,y_pred)"
   ]
  },
  {
   "cell_type": "markdown",
   "metadata": {},
   "source": [
    "- As result we have 3087 mushroom edible species.\n",
    "- 3033 poisonous mushrooms.\n",
    "- 109 possible errors\n",
    "- 503 false positives. "
   ]
  },
  {
   "cell_type": "code",
   "execution_count": 29,
   "metadata": {
    "pycharm": {
     "name": "#%%\n"
    }
   },
   "outputs": [
    {
     "data": {
      "text/plain": [
       "0.9728344438749358"
      ]
     },
     "execution_count": 29,
     "metadata": {},
     "output_type": "execute_result"
    }
   ],
   "source": [
    "f1_score(y_test,y_pred)"
   ]
  },
  {
   "cell_type": "code",
   "execution_count": 30,
   "metadata": {
    "pycharm": {
     "name": "#%%\n"
    }
   },
   "outputs": [
    {
     "data": {
      "text/plain": [
       "0.9738787580088714"
      ]
     },
     "execution_count": 30,
     "metadata": {},
     "output_type": "execute_result"
    }
   ],
   "source": [
    "accuracy_score(y_test,y_pred)"
   ]
  },
  {
   "cell_type": "markdown",
   "metadata": {},
   "source": [
    "## Conclusion"
   ]
  },
  {
   "cell_type": "markdown",
   "metadata": {},
   "source": [
    "## Reference"
   ]
  },
  {
   "cell_type": "markdown",
   "metadata": {},
   "source": [
    "(1) Metzler S. Metzler V. Orson K. Texas Mushrooms. University of Texas Press. Austin. https://books.google.cz/books?id=HRtfvVigMmsC&pg=PA37&redir_esc=y#v=onepage&q&f=false <br>\n",
    "(2) Deep Learning and Poisonous Mushrooms - Cyrill Glockner https://towardsdatascience.com/deep-learning-and-poisonous-mushrooms-4377ea4c9b80 <br>\n",
    "(3) Haytowitz. Vitamin D in Mushrooms. Nutrient Data Laboratory, Beltsville Human Nutrition Research Center. <br>\n",
    "(4) Mushrooms Classification - Giorgio Garziano <br> https://datascienceplus.com/mushrooms-classification-part-1/ <br>\n",
    "(5) Indiana State Parks - Common Mushrooms <br>\n",
    "(6) British Fungi - Elementary Text-Book <br>\n",
    "(7) https://www.usask.ca/biology/fungi/home_%20page.shtml"
   ]
  }
 ],
 "metadata": {
  "kernelspec": {
   "display_name": "Python 3",
   "language": "python",
   "name": "python3"
  },
  "language_info": {
   "codemirror_mode": {
    "name": "ipython",
    "version": 3
   },
   "file_extension": ".py",
   "mimetype": "text/x-python",
   "name": "python",
   "nbconvert_exporter": "python",
   "pygments_lexer": "ipython3",
   "version": "3.7.4"
  },
  "pycharm": {
   "stem_cell": {
    "cell_type": "raw",
    "metadata": {
     "collapsed": false
    },
    "source": []
   }
  }
 },
 "nbformat": 4,
 "nbformat_minor": 2
}
